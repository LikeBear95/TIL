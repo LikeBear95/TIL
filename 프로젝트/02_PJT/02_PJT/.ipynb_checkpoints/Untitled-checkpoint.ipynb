{
 "cells": [
  {
   "cell_type": "markdown",
   "id": "cdf7f3e6-2ce4-4fc6-b125-1f6639dd809c",
   "metadata": {},
   "source": [
    "# 0. 필요 패키지 설치"
   ]
  },
  {
   "cell_type": "code",
   "execution_count": 1,
   "id": "549d87d5-76f8-492e-8c3d-f227c6e94519",
   "metadata": {},
   "outputs": [],
   "source": [
    "# pip install numpy"
   ]
  },
  {
   "cell_type": "code",
   "execution_count": 2,
   "id": "ff42ec0e-0882-4082-84ab-8436aef712a2",
   "metadata": {},
   "outputs": [],
   "source": [
    "# pip install pandas"
   ]
  },
  {
   "cell_type": "code",
   "execution_count": 3,
   "id": "78c2c739-aec8-4366-a8b7-4347082bd5f6",
   "metadata": {},
   "outputs": [],
   "source": [
    "# pip install matplotlib"
   ]
  },
  {
   "cell_type": "code",
   "execution_count": 4,
   "id": "4fa92d1f-262f-418f-b615-149591264984",
   "metadata": {},
   "outputs": [],
   "source": [
    "# 패키지 import\n",
    "import csv\n",
    "import numpy as np\n",
    "import pandas as pd"
   ]
  },
  {
   "cell_type": "markdown",
   "id": "1fe326f2-3057-46aa-8d58-a6fffd9488b7",
   "metadata": {},
   "source": [
    "# 1. Numpy 를 활용한 csv file open\n",
    "\n",
    "csv 파일을 읽는 방법은 2가지<br>\n",
    " 1. Python 기본 file open 함수 사용 -> numpy 로 변경<br>\n",
    " 2. numpy 의 file read 함수 사용<br>\n",
    "    \n",
    "이 중 2번 방법을 사용"
   ]
  },
  {
   "cell_type": "code",
   "execution_count": 5,
   "id": "2fd984b5-db93-47cf-8b73-e9d73ec7cee4",
   "metadata": {},
   "outputs": [],
   "source": [
    "def file_open_by_numpy():\n",
    "    # np.loadtxt(구분자 = ',', 데이터 타입: string)\n",
    "    np_arr = np.loadtxt('data/NFLX.CSV', delimiter=\",\", encoding='cp949', dtype=str)\n",
    "    return np_arr"
   ]
  },
  {
   "cell_type": "code",
   "execution_count": 6,
   "id": "d283c9dc-97ce-481c-9ef4-76d6d230f57c",
   "metadata": {},
   "outputs": [
    {
     "name": "stdout",
     "output_type": "stream",
     "text": [
      "[['Date' 'Open' 'High' ... 'Close' 'Adj Close' 'Volume']\n",
      " ['2018-02-05' '262.000000' '267.899994' ... '254.259995' '254.259995'\n",
      "  '11896100']\n",
      " ['2018-02-06' '247.699997' '266.700012' ... '265.720001' '265.720001'\n",
      "  '12595800']\n",
      " ...\n",
      " ['2022-02-02' '448.250000' '451.980011' ... '429.480011' '429.480011'\n",
      "  '14346000']\n",
      " ['2022-02-03' '421.440002' '429.260010' ... '405.600006' '405.600006'\n",
      "  '9905200']\n",
      " ['2022-02-04' '407.309998' '412.769989' ... '410.170013' '410.170013'\n",
      "  '7782400']]\n"
     ]
    }
   ],
   "source": [
    "arr = file_open_by_numpy()\n",
    "print(arr)"
   ]
  },
  {
   "cell_type": "markdown",
   "id": "8a913fdb-34ff-4d53-ac05-9ac155a546ba",
   "metadata": {},
   "source": [
    "위와 같이 2차원 배열 형태로 read <br>\n",
    "Type을 출력"
   ]
  },
  {
   "cell_type": "code",
   "execution_count": 7,
   "id": "d0bfcfaf-4736-4bc7-8f0a-9ebaf0b58f3f",
   "metadata": {
    "scrolled": true
   },
   "outputs": [
    {
     "data": {
      "text/plain": [
       "numpy.ndarray"
      ]
     },
     "execution_count": 7,
     "metadata": {},
     "output_type": "execute_result"
    }
   ],
   "source": [
    "type(arr)"
   ]
  },
  {
   "cell_type": "markdown",
   "id": "9aaaf168-ca78-474a-8c09-d9cbd929986c",
   "metadata": {},
   "source": [
    "위의 데이터를 분석하기 위해 pandas 의 Dataframe 으로 변형"
   ]
  },
  {
   "cell_type": "markdown",
   "id": "3f7de6a5-762e-4934-a1d3-e14feb492180",
   "metadata": {},
   "source": [
    "# 2. Pandas DataFrame 생성"
   ]
  },
  {
   "cell_type": "code",
   "execution_count": 8,
   "id": "58c106b4-e4de-4573-9ab1-66874cacbee0",
   "metadata": {},
   "outputs": [
    {
     "data": {
      "text/html": [
       "<div>\n",
       "<style scoped>\n",
       "    .dataframe tbody tr th:only-of-type {\n",
       "        vertical-align: middle;\n",
       "    }\n",
       "\n",
       "    .dataframe tbody tr th {\n",
       "        vertical-align: top;\n",
       "    }\n",
       "\n",
       "    .dataframe thead th {\n",
       "        text-align: right;\n",
       "    }\n",
       "</style>\n",
       "<table border=\"1\" class=\"dataframe\">\n",
       "  <thead>\n",
       "    <tr style=\"text-align: right;\">\n",
       "      <th></th>\n",
       "      <th>0</th>\n",
       "      <th>1</th>\n",
       "      <th>2</th>\n",
       "      <th>3</th>\n",
       "      <th>4</th>\n",
       "      <th>5</th>\n",
       "      <th>6</th>\n",
       "    </tr>\n",
       "  </thead>\n",
       "  <tbody>\n",
       "    <tr>\n",
       "      <th>0</th>\n",
       "      <td>Date</td>\n",
       "      <td>Open</td>\n",
       "      <td>High</td>\n",
       "      <td>Low</td>\n",
       "      <td>Close</td>\n",
       "      <td>Adj Close</td>\n",
       "      <td>Volume</td>\n",
       "    </tr>\n",
       "    <tr>\n",
       "      <th>1</th>\n",
       "      <td>2018-02-05</td>\n",
       "      <td>262.000000</td>\n",
       "      <td>267.899994</td>\n",
       "      <td>250.029999</td>\n",
       "      <td>254.259995</td>\n",
       "      <td>254.259995</td>\n",
       "      <td>11896100</td>\n",
       "    </tr>\n",
       "    <tr>\n",
       "      <th>2</th>\n",
       "      <td>2018-02-06</td>\n",
       "      <td>247.699997</td>\n",
       "      <td>266.700012</td>\n",
       "      <td>245.000000</td>\n",
       "      <td>265.720001</td>\n",
       "      <td>265.720001</td>\n",
       "      <td>12595800</td>\n",
       "    </tr>\n",
       "    <tr>\n",
       "      <th>3</th>\n",
       "      <td>2018-02-07</td>\n",
       "      <td>266.579987</td>\n",
       "      <td>272.450012</td>\n",
       "      <td>264.329987</td>\n",
       "      <td>264.559998</td>\n",
       "      <td>264.559998</td>\n",
       "      <td>8981500</td>\n",
       "    </tr>\n",
       "    <tr>\n",
       "      <th>4</th>\n",
       "      <td>2018-02-08</td>\n",
       "      <td>267.079987</td>\n",
       "      <td>267.619995</td>\n",
       "      <td>250.000000</td>\n",
       "      <td>250.100006</td>\n",
       "      <td>250.100006</td>\n",
       "      <td>9306700</td>\n",
       "    </tr>\n",
       "    <tr>\n",
       "      <th>...</th>\n",
       "      <td>...</td>\n",
       "      <td>...</td>\n",
       "      <td>...</td>\n",
       "      <td>...</td>\n",
       "      <td>...</td>\n",
       "      <td>...</td>\n",
       "      <td>...</td>\n",
       "    </tr>\n",
       "    <tr>\n",
       "      <th>1005</th>\n",
       "      <td>2022-01-31</td>\n",
       "      <td>401.970001</td>\n",
       "      <td>427.700012</td>\n",
       "      <td>398.200012</td>\n",
       "      <td>427.140015</td>\n",
       "      <td>427.140015</td>\n",
       "      <td>20047500</td>\n",
       "    </tr>\n",
       "    <tr>\n",
       "      <th>1006</th>\n",
       "      <td>2022-02-01</td>\n",
       "      <td>432.959991</td>\n",
       "      <td>458.480011</td>\n",
       "      <td>425.540009</td>\n",
       "      <td>457.130005</td>\n",
       "      <td>457.130005</td>\n",
       "      <td>22542300</td>\n",
       "    </tr>\n",
       "    <tr>\n",
       "      <th>1007</th>\n",
       "      <td>2022-02-02</td>\n",
       "      <td>448.250000</td>\n",
       "      <td>451.980011</td>\n",
       "      <td>426.480011</td>\n",
       "      <td>429.480011</td>\n",
       "      <td>429.480011</td>\n",
       "      <td>14346000</td>\n",
       "    </tr>\n",
       "    <tr>\n",
       "      <th>1008</th>\n",
       "      <td>2022-02-03</td>\n",
       "      <td>421.440002</td>\n",
       "      <td>429.260010</td>\n",
       "      <td>404.279999</td>\n",
       "      <td>405.600006</td>\n",
       "      <td>405.600006</td>\n",
       "      <td>9905200</td>\n",
       "    </tr>\n",
       "    <tr>\n",
       "      <th>1009</th>\n",
       "      <td>2022-02-04</td>\n",
       "      <td>407.309998</td>\n",
       "      <td>412.769989</td>\n",
       "      <td>396.640015</td>\n",
       "      <td>410.170013</td>\n",
       "      <td>410.170013</td>\n",
       "      <td>7782400</td>\n",
       "    </tr>\n",
       "  </tbody>\n",
       "</table>\n",
       "<p>1010 rows × 7 columns</p>\n",
       "</div>"
      ],
      "text/plain": [
       "               0           1           2           3           4           5  \\\n",
       "0           Date        Open        High         Low       Close   Adj Close   \n",
       "1     2018-02-05  262.000000  267.899994  250.029999  254.259995  254.259995   \n",
       "2     2018-02-06  247.699997  266.700012  245.000000  265.720001  265.720001   \n",
       "3     2018-02-07  266.579987  272.450012  264.329987  264.559998  264.559998   \n",
       "4     2018-02-08  267.079987  267.619995  250.000000  250.100006  250.100006   \n",
       "...          ...         ...         ...         ...         ...         ...   \n",
       "1005  2022-01-31  401.970001  427.700012  398.200012  427.140015  427.140015   \n",
       "1006  2022-02-01  432.959991  458.480011  425.540009  457.130005  457.130005   \n",
       "1007  2022-02-02  448.250000  451.980011  426.480011  429.480011  429.480011   \n",
       "1008  2022-02-03  421.440002  429.260010  404.279999  405.600006  405.600006   \n",
       "1009  2022-02-04  407.309998  412.769989  396.640015  410.170013  410.170013   \n",
       "\n",
       "             6  \n",
       "0       Volume  \n",
       "1     11896100  \n",
       "2     12595800  \n",
       "3      8981500  \n",
       "4      9306700  \n",
       "...        ...  \n",
       "1005  20047500  \n",
       "1006  22542300  \n",
       "1007  14346000  \n",
       "1008   9905200  \n",
       "1009   7782400  \n",
       "\n",
       "[1010 rows x 7 columns]"
      ]
     },
     "execution_count": 8,
     "metadata": {},
     "output_type": "execute_result"
    }
   ],
   "source": [
    "# 기본적인 데이터 프레임 생성\n",
    "df = pd.DataFrame(arr)\n",
    "df"
   ]
  },
  {
   "cell_type": "markdown",
   "id": "f8617bb5-50b0-4458-a89f-f37d1912de27",
   "metadata": {},
   "source": [
    "# A. 데이터 전처리 - 데이터 읽어오기\n",
    "- Pandas를 사용하여 csv 파일(NLFX.csv)을 DataFrame 으로 읽어오기\n",
    "- 이 때, ['Data', 'Open', 'High', 'Low', 'Close'] 필드만 읽어오기"
   ]
  },
  {
   "cell_type": "code",
   "execution_count": 9,
   "id": "3c121990-aea6-486a-aa87-f8ad5a6b540c",
   "metadata": {},
   "outputs": [
    {
     "data": {
      "text/html": [
       "<div>\n",
       "<style scoped>\n",
       "    .dataframe tbody tr th:only-of-type {\n",
       "        vertical-align: middle;\n",
       "    }\n",
       "\n",
       "    .dataframe tbody tr th {\n",
       "        vertical-align: top;\n",
       "    }\n",
       "\n",
       "    .dataframe thead th {\n",
       "        text-align: right;\n",
       "    }\n",
       "</style>\n",
       "<table border=\"1\" class=\"dataframe\">\n",
       "  <thead>\n",
       "    <tr style=\"text-align: right;\">\n",
       "      <th></th>\n",
       "      <th>Date</th>\n",
       "      <th>Open</th>\n",
       "      <th>High</th>\n",
       "      <th>Low</th>\n",
       "      <th>Close</th>\n",
       "    </tr>\n",
       "  </thead>\n",
       "  <tbody>\n",
       "    <tr>\n",
       "      <th>0</th>\n",
       "      <td>2018-02-05</td>\n",
       "      <td>262.000000</td>\n",
       "      <td>267.899994</td>\n",
       "      <td>250.029999</td>\n",
       "      <td>254.259995</td>\n",
       "    </tr>\n",
       "    <tr>\n",
       "      <th>1</th>\n",
       "      <td>2018-02-06</td>\n",
       "      <td>247.699997</td>\n",
       "      <td>266.700012</td>\n",
       "      <td>245.000000</td>\n",
       "      <td>265.720001</td>\n",
       "    </tr>\n",
       "    <tr>\n",
       "      <th>2</th>\n",
       "      <td>2018-02-07</td>\n",
       "      <td>266.579987</td>\n",
       "      <td>272.450012</td>\n",
       "      <td>264.329987</td>\n",
       "      <td>264.559998</td>\n",
       "    </tr>\n",
       "    <tr>\n",
       "      <th>3</th>\n",
       "      <td>2018-02-08</td>\n",
       "      <td>267.079987</td>\n",
       "      <td>267.619995</td>\n",
       "      <td>250.000000</td>\n",
       "      <td>250.100006</td>\n",
       "    </tr>\n",
       "    <tr>\n",
       "      <th>4</th>\n",
       "      <td>2018-02-09</td>\n",
       "      <td>253.850006</td>\n",
       "      <td>255.800003</td>\n",
       "      <td>236.110001</td>\n",
       "      <td>249.470001</td>\n",
       "    </tr>\n",
       "    <tr>\n",
       "      <th>...</th>\n",
       "      <td>...</td>\n",
       "      <td>...</td>\n",
       "      <td>...</td>\n",
       "      <td>...</td>\n",
       "      <td>...</td>\n",
       "    </tr>\n",
       "    <tr>\n",
       "      <th>1004</th>\n",
       "      <td>2022-01-31</td>\n",
       "      <td>401.970001</td>\n",
       "      <td>427.700012</td>\n",
       "      <td>398.200012</td>\n",
       "      <td>427.140015</td>\n",
       "    </tr>\n",
       "    <tr>\n",
       "      <th>1005</th>\n",
       "      <td>2022-02-01</td>\n",
       "      <td>432.959991</td>\n",
       "      <td>458.480011</td>\n",
       "      <td>425.540009</td>\n",
       "      <td>457.130005</td>\n",
       "    </tr>\n",
       "    <tr>\n",
       "      <th>1006</th>\n",
       "      <td>2022-02-02</td>\n",
       "      <td>448.250000</td>\n",
       "      <td>451.980011</td>\n",
       "      <td>426.480011</td>\n",
       "      <td>429.480011</td>\n",
       "    </tr>\n",
       "    <tr>\n",
       "      <th>1007</th>\n",
       "      <td>2022-02-03</td>\n",
       "      <td>421.440002</td>\n",
       "      <td>429.260010</td>\n",
       "      <td>404.279999</td>\n",
       "      <td>405.600006</td>\n",
       "    </tr>\n",
       "    <tr>\n",
       "      <th>1008</th>\n",
       "      <td>2022-02-04</td>\n",
       "      <td>407.309998</td>\n",
       "      <td>412.769989</td>\n",
       "      <td>396.640015</td>\n",
       "      <td>410.170013</td>\n",
       "    </tr>\n",
       "  </tbody>\n",
       "</table>\n",
       "<p>1009 rows × 5 columns</p>\n",
       "</div>"
      ],
      "text/plain": [
       "            Date        Open        High         Low       Close\n",
       "0     2018-02-05  262.000000  267.899994  250.029999  254.259995\n",
       "1     2018-02-06  247.699997  266.700012  245.000000  265.720001\n",
       "2     2018-02-07  266.579987  272.450012  264.329987  264.559998\n",
       "3     2018-02-08  267.079987  267.619995  250.000000  250.100006\n",
       "4     2018-02-09  253.850006  255.800003  236.110001  249.470001\n",
       "...          ...         ...         ...         ...         ...\n",
       "1004  2022-01-31  401.970001  427.700012  398.200012  427.140015\n",
       "1005  2022-02-01  432.959991  458.480011  425.540009  457.130005\n",
       "1006  2022-02-02  448.250000  451.980011  426.480011  429.480011\n",
       "1007  2022-02-03  421.440002  429.260010  404.279999  405.600006\n",
       "1008  2022-02-04  407.309998  412.769989  396.640015  410.170013\n",
       "\n",
       "[1009 rows x 5 columns]"
      ]
     },
     "execution_count": 9,
     "metadata": {},
     "output_type": "execute_result"
    }
   ],
   "source": [
    "# 컬럼명 지정하면서 생성하기\n",
    "# 인덱스명도 지정하면서 할 수 있다.\n",
    "# column 먼저 지정 후 열을 삭제하면 열 수가 안맞아 에러\n",
    "arr = np.delete(arr, [5, 6], axis = 1)\n",
    "headers = arr[0]\n",
    "arr = np.delete(arr, 0, 0)\n",
    "df = pd.DataFrame(arr, columns = headers)\n",
    "df"
   ]
  },
  {
   "cell_type": "markdown",
   "id": "5ca90219-e8cd-4eff-a24b-276f6403985d",
   "metadata": {},
   "source": [
    "# B. 데이터 전처리 - 2021년 이후의 종가 데이터 출력하기\n",
    "- csv 파일을 DataFrame 으로 읽어와 2021년 이후의 데이터만 필터링\n",
    "    - [힌트] 필터링이 가능한 형식으로 데이터 타입을 변경한 후 필터링 진행\n",
    "    - Pandas 의 to_datetime() 사용\n",
    "- 필터링이 완료된 DataFrame 의 종가 데이터를 Matplotlib 를 사용하여 시각화"
   ]
  },
  {
   "cell_type": "code",
   "execution_count": 10,
   "id": "dc2214c7-7d81-4150-98a5-4c3aeae84e46",
   "metadata": {},
   "outputs": [
    {
     "data": {
      "text/plain": [
       "Date     2018-02-05\n",
       "Open     262.000000\n",
       "High     267.899994\n",
       "Low      250.029999\n",
       "Close    254.259995\n",
       "Name: 0, dtype: object"
      ]
     },
     "execution_count": 10,
     "metadata": {},
     "output_type": "execute_result"
    }
   ],
   "source": [
    "df.iloc[0]"
   ]
  }
 ],
 "metadata": {
  "kernelspec": {
   "display_name": "Python 3 (ipykernel)",
   "language": "python",
   "name": "python3"
  },
  "language_info": {
   "codemirror_mode": {
    "name": "ipython",
    "version": 3
   },
   "file_extension": ".py",
   "mimetype": "text/x-python",
   "name": "python",
   "nbconvert_exporter": "python",
   "pygments_lexer": "ipython3",
   "version": "3.9.13"
  }
 },
 "nbformat": 4,
 "nbformat_minor": 5
}
